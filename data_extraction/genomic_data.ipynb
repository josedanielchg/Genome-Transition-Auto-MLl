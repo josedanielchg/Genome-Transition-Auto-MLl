{
 "cells": [
  {
   "cell_type": "code",
   "id": "initial_id",
   "metadata": {
    "collapsed": true,
    "ExecuteTime": {
     "end_time": "2025-02-16T21:12:46.601617Z",
     "start_time": "2025-02-16T21:12:45.388738Z"
    }
   },
   "source": [
    "import pandas as pd\n",
    "import re"
   ],
   "outputs": [],
   "execution_count": 1
  },
  {
   "metadata": {
    "ExecuteTime": {
     "end_time": "2025-02-16T01:28:58.242573Z",
     "start_time": "2025-02-16T01:28:58.118414Z"
    }
   },
   "cell_type": "code",
   "source": [
    "# Read data file\n",
    "file_path = \"../data_ensembl/21-1-46709983.txt\"\n",
    "# file_path = \"../data_ensembl/test.txt\"\n",
    "with open(file_path, \"r\") as f:\n",
    "    lines = f.readlines()"
   ],
   "id": "7e8ade5dc16ea670",
   "outputs": [],
   "execution_count": 3
  },
  {
   "metadata": {
    "ExecuteTime": {
     "end_time": "2025-02-16T01:29:01.516721Z",
     "start_time": "2025-02-16T01:29:01.504150Z"
    }
   },
   "cell_type": "code",
   "source": [
    "# Function to extract transitions\n",
    "def extract_transitions(gen_id, start, end, sequence, chromosome, global_start, global_end, strand, exons, transcript_count):\n",
    "    data_ei = []\n",
    "    data_ie = []\n",
    "    data_ze = []\n",
    "    data_ez = []\n",
    "\n",
    "    if transcript_count == 0:\n",
    "        return data_ei, data_ie, data_ze, data_ez\n",
    "\n",
    "    # Exon -> Intron\n",
    "    for i in range(len(exons) - 1):\n",
    "        exon_end = exons[i][1]\n",
    "        intron_start = exon_end + 1\n",
    "\n",
    "        if intron_start + 1 < len(sequence) and sequence[intron_start:intron_start+2] == \"gt\":\n",
    "            left = sequence[max(0, intron_start - 5):intron_start]\n",
    "            right = sequence[intron_start:intron_start + 7]\n",
    "            transition_seq = left + right\n",
    "            data_ei.append([gen_id, chromosome, global_start, exon_end, *list(transition_seq)])\n",
    "\n",
    "    # Intron -> Exon\n",
    "    for i in range(len(exons) - 1):\n",
    "        exon_start = exons[i + 1][0]\n",
    "        intron_end = exon_start - 1\n",
    "\n",
    "        if intron_end - 1 >= 0 and sequence[intron_end-1:intron_end+1] == \"ag\":\n",
    "            left = sequence[max(0, intron_end - 100):intron_end]\n",
    "            right = sequence[intron_end:intron_end + 5]\n",
    "            transition_seq = left + right\n",
    "            data_ie.append([gen_id, chromosome, global_start, exon_start, *list(transition_seq)])\n",
    "\n",
    "    # Intergenic Zone -> First Exon\n",
    "    exon_start = exons[0][0]\n",
    "    left = sequence[max(0, exon_start - 500):exon_start]\n",
    "    right = sequence[exon_start:exon_start + 50]\n",
    "    transition_seq = left + right\n",
    "    data_ze.append([gen_id, chromosome, global_start, exon_start, *list(transition_seq)])\n",
    "\n",
    "    # Last Exon -> Intergenic Zone\n",
    "    exon_end = exons[-1][1]\n",
    "    left = sequence[max(0, exon_end - 50):exon_end]\n",
    "    right = sequence[exon_end:exon_end + 500]\n",
    "    transition_seq = left + right\n",
    "    data_ez.append([gen_id, chromosome, global_start, exon_end, *list(transition_seq)])\n",
    "\n",
    "    return data_ei, data_ie, data_ze, data_ez"
   ],
   "id": "873013fbcc15a269",
   "outputs": [],
   "execution_count": 5
  },
  {
   "metadata": {
    "ExecuteTime": {
     "end_time": "2025-02-16T01:29:05.631819Z",
     "start_time": "2025-02-16T01:29:05.628248Z"
    }
   },
   "cell_type": "code",
   "source": [
    "# Variables to store data\n",
    "all_data_ei, all_data_ie, all_data_ze, all_data_ez = [], [], [], []"
   ],
   "id": "9599f7293636d290",
   "outputs": [],
   "execution_count": 6
  },
  {
   "metadata": {
    "ExecuteTime": {
     "end_time": "2025-02-16T01:29:08.221089Z",
     "start_time": "2025-02-16T01:29:07.700683Z"
    }
   },
   "cell_type": "code",
   "source": [
    "# Process each line\n",
    "index = 0\n",
    "transcript_regex = re.compile(r\"^\\(\\[(\\d+,\\d+)\\](,\\[(\\d+,\\d+)\\])*,\\[(\\d+)\\]\\)$\")\n",
    "\n",
    "while index < len(lines):\n",
    "    line = lines[index].strip()\n",
    "    if line.startswith(\"(\"):\n",
    "        # Extract gene information\n",
    "        match = re.match(r\"\\(\\[(.*?)\\],\\[(\\d+)\\],\\[(\\d+)\\],\\[(.*?)\\],\\[(\\d+)\\],\\[(\\d+)\\],\\[(\\d+)\\],(true|false)\\)\", line)\n",
    "        if match:\n",
    "            gen_id, start, end, sequence, chromosome, global_start, global_end, strand = match.groups()\n",
    "            start, end, chromosome, global_start, global_end = map(int, [start, end, chromosome, global_start, global_end])\n",
    "            strand = (strand == \"true\")\n",
    "\n",
    "            # Accumulate all transcript lines\n",
    "            exons_list = []\n",
    "            transcript_count = 0\n",
    "\n",
    "            while index + 1 < len(lines) and transcript_regex.match(lines[index + 1].strip()):\n",
    "                index += 1\n",
    "                trans_line = lines[index].strip()\n",
    "                exon_matches = re.findall(r\"\\[(\\d+),(\\d+)\\]\", trans_line)\n",
    "                exons = [(int(s), int(e)) for s, e in exon_matches]\n",
    "                transcript_count = int(re.search(r\"\\[(\\d+)\\]\\)$\", trans_line).group(1))\n",
    "                exons_list.append(exons)\n",
    "\n",
    "            # Process each exon set\n",
    "            for exons in exons_list:\n",
    "                data_ei, data_ie, data_ze, data_ez = extract_transitions(gen_id, start, end, sequence, chromosome, global_start, global_end, strand, exons, transcript_count)\n",
    "\n",
    "                all_data_ei.extend(data_ei)\n",
    "                all_data_ie.extend(data_ie)\n",
    "                all_data_ze.extend(data_ze)\n",
    "                all_data_ez.extend(data_ez)\n",
    "\n",
    "    index += 1"
   ],
   "id": "d9567c465f9a1045",
   "outputs": [],
   "execution_count": 7
  },
  {
   "metadata": {
    "ExecuteTime": {
     "end_time": "2025-02-16T01:29:10.058181Z",
     "start_time": "2025-02-16T01:29:09.739595Z"
    }
   },
   "cell_type": "code",
   "source": [
    "# Save to CSV\n",
    "pd.DataFrame(all_data_ei).to_csv(\"../data/data_ei.csv\", index=False, header=[\"GEN_ID\", \"Chromosome\", \"Global_Start\", \"Exon_End\"] + [f\"B{i+1}\" for i in range(12)])\n",
    "pd.DataFrame(all_data_ie).to_csv(\"../data/data_ie.csv\", index=False, header=[\"GEN_ID\", \"Chromosome\", \"Global_Start\", \"Exon_Start\"] + [f\"B{i+1}\" for i in range(105)])\n",
    "pd.DataFrame(all_data_ze).to_csv(\"../data/data_ze.csv\", index=False, header=[\"GEN_ID\", \"Chromosome\", \"Global_Start\", \"Exon_Start\"] + [f\"B{i+1}\" for i in range(550)])\n",
    "pd.DataFrame(all_data_ez).to_csv(\"../data/data_ez.csv\", index=False, header=[\"GEN_ID\", \"Chromosome\", \"Global_Start\", \"Exon_End\"] + [f\"B{i+1}\" for i in range(550)])"
   ],
   "id": "cbda49476037fcec",
   "outputs": [],
   "execution_count": 8
  }
 ],
 "metadata": {
  "kernelspec": {
   "display_name": "Python 3",
   "language": "python",
   "name": "python3"
  },
  "language_info": {
   "codemirror_mode": {
    "name": "ipython",
    "version": 2
   },
   "file_extension": ".py",
   "mimetype": "text/x-python",
   "name": "python",
   "nbconvert_exporter": "python",
   "pygments_lexer": "ipython2",
   "version": "2.7.6"
  }
 },
 "nbformat": 4,
 "nbformat_minor": 5
}
